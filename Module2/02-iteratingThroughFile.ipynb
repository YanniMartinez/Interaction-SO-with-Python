{
 "cells": [
  {
   "cell_type": "code",
   "execution_count": 1,
   "metadata": {},
   "outputs": [
    {
     "name": "stdout",
     "output_type": "stream",
     "text": [
      "    ITSI, BITSI ARAÃ±A SUBIÃ³ A SU TELARAÃ±A,\n",
      "\n",
      "    VINO LA LLUVIA Y SE LA LLEVÃ³.\n",
      "\n",
      "    SALIÃ³ EL SOL, SE SECÃ³ LA LLUVIA,\n",
      "\n",
      "    ITSI, BITSI ARAÃ±A, OTRA VEZ SUBIÃ³.\n"
     ]
    }
   ],
   "source": [
    "with open(\"spider.txt\") as file:\n",
    "    for line in file:\n",
    "        print(line.upper())"
   ]
  },
  {
   "cell_type": "code",
   "execution_count": 2,
   "metadata": {},
   "outputs": [
    {
     "name": "stdout",
     "output_type": "stream",
     "text": [
      "ITSI, BITSI ARAÃ±A SUBIÃ³ A SU TELARAÃ±A,\n",
      "VINO LA LLUVIA Y SE LA LLEVÃ³.\n",
      "SALIÃ³ EL SOL, SE SECÃ³ LA LLUVIA,\n",
      "ITSI, BITSI ARAÃ±A, OTRA VEZ SUBIÃ³.\n"
     ]
    }
   ],
   "source": [
    "with open(\"spider.txt\") as file:\n",
    "    for line in file:\n",
    "        print(line.strip().upper())"
   ]
  },
  {
   "cell_type": "markdown",
   "metadata": {},
   "source": [
    "Almacenando valor de un archivo en una lista."
   ]
  },
  {
   "cell_type": "code",
   "execution_count": 3,
   "metadata": {},
   "outputs": [
    {
     "name": "stdout",
     "output_type": "stream",
     "text": [
      "['    Itsi, bitsi araÃ±a subiÃ³ a su telaraÃ±a,\\n', '    vino la lluvia y se la llevÃ³.\\n', '    SaliÃ³ el sol, se secÃ³ la lluvia,\\n', '    Itsi, bitsi araÃ±a, otra vez subiÃ³.']\n",
      "['    Itsi, bitsi araÃ±a subiÃ³ a su telaraÃ±a,\\n', '    Itsi, bitsi araÃ±a, otra vez subiÃ³.', '    SaliÃ³ el sol, se secÃ³ la lluvia,\\n', '    vino la lluvia y se la llevÃ³.\\n']\n"
     ]
    }
   ],
   "source": [
    "file = open(\"spider.txt\")\n",
    "lines = file.readlines()\n",
    "file.close()\n",
    "print(lines)\n",
    "lines.sort()\n",
    "print(lines)"
   ]
  },
  {
   "cell_type": "markdown",
   "metadata": {},
   "source": [
    "# Modos para trabajar archivos\n",
    "\n",
    "* r = Lectura sólo\n",
    "* w = Sólo escritura (Sobreescribe todo el contenido del archivo)\n",
    "* a = Append (Agrega contenido a un archivo existente)\n",
    "* r+ = Lectura y escritura\n",
    "\n",
    "Para más detalles lee la [Documentación oficial de Python](https://docs.python.org/3/library/functions.html#open)"
   ]
  },
  {
   "cell_type": "code",
   "execution_count": null,
   "metadata": {},
   "outputs": [],
   "source": [
    "with open(\"novel.txt\",\"w\") as file:\n",
    "    file.write(\"Hello world\")\n",
    "\n",
    "#Sí la función write tiene exito entonces,\n",
    "#Retorna el número de chars escritos"
   ]
  }
 ],
 "metadata": {
  "kernelspec": {
   "display_name": "Python 3.10.2 64-bit",
   "language": "python",
   "name": "python3"
  },
  "language_info": {
   "codemirror_mode": {
    "name": "ipython",
    "version": 3
   },
   "file_extension": ".py",
   "mimetype": "text/x-python",
   "name": "python",
   "nbconvert_exporter": "python",
   "pygments_lexer": "ipython3",
   "version": "3.10.2"
  },
  "orig_nbformat": 4,
  "vscode": {
   "interpreter": {
    "hash": "b638661fb505d19b3e39387074286a6ab6143edfcc10e87bf6d921703faae342"
   }
  }
 },
 "nbformat": 4,
 "nbformat_minor": 2
}
