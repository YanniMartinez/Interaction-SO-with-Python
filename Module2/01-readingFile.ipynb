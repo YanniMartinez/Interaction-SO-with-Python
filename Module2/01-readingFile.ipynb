{
 "cells": [
  {
   "cell_type": "markdown",
   "metadata": {},
   "source": [
    "# Lectura de archivos"
   ]
  },
  {
   "cell_type": "code",
   "execution_count": null,
   "metadata": {},
   "outputs": [],
   "source": [
    "file = open(\"spider.txt\") #Creacion de objeto tipo file\n",
    "#Asumimos que el archivo está en la misma ruta que el script\n",
    "print(file.readline()) #Permite leer sólo 1 linea del archivo\n",
    "print(file.readline()) #Ahora obtenemos la segunda linea\n",
    "\n",
    "#Cada que se llama readline la posicion del objeto cambia 1 linea\n",
    "\n"
   ]
  },
  {
   "cell_type": "markdown",
   "metadata": {},
   "source": [
    "Como alternativa puede usarse la función **Read** que lee desde la posición actual hasta la última linea del archivo."
   ]
  },
  {
   "cell_type": "code",
   "execution_count": null,
   "metadata": {},
   "outputs": [],
   "source": [
    "print(file.read()) #Lee todas las lineas desde la pos actual\n",
    "file.close() #Cierra el objeto"
   ]
  },
  {
   "cell_type": "markdown",
   "metadata": {},
   "source": [
    "El patrón Open-Use-Close, es una forma común al trabajar con archivo, existen varias razones para ello como:\n",
    "\n",
    "* Cuando el script abre el archivo lo bloquea por lo que ningun otro proceso puede hacer uso de el.\n",
    "* Hay un número límitado de file descriptors que podemos crear\n",
    "* Puede generar carrera de recursos en los que los procesos tratarán de leer y escribir en función de la oportunidad que tengan.\n",
    "\n",
    "Para no olvidar cerrar archivos en python se desarolló la sentencia **With**, al usar with \n"
   ]
  },
  {
   "cell_type": "code",
   "execution_count": null,
   "metadata": {},
   "outputs": [],
   "source": [
    "with open(\"spider.txt\") as file:\n",
    "    print(file.readline())\n",
    "\n"
   ]
  }
 ],
 "metadata": {
  "kernelspec": {
   "display_name": "Python 3.10.2 64-bit",
   "language": "python",
   "name": "python3"
  },
  "language_info": {
   "codemirror_mode": {
    "name": "ipython",
    "version": 3
   },
   "file_extension": ".py",
   "mimetype": "text/x-python",
   "name": "python",
   "nbconvert_exporter": "python",
   "pygments_lexer": "ipython3",
   "version": "3.10.2"
  },
  "orig_nbformat": 4,
  "vscode": {
   "interpreter": {
    "hash": "b638661fb505d19b3e39387074286a6ab6143edfcc10e87bf6d921703faae342"
   }
  }
 },
 "nbformat": 4,
 "nbformat_minor": 2
}
