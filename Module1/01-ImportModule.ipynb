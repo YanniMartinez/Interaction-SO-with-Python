{
 "cells": [
  {
   "cell_type": "markdown",
   "metadata": {},
   "source": [
    "# Importe de modulo Requests\n",
    "\n",
    "Si aún no cuenta con el modulo ejecute el siguiente comando"
   ]
  },
  {
   "cell_type": "code",
   "execution_count": 2,
   "metadata": {},
   "outputs": [
    {
     "name": "stdout",
     "output_type": "stream",
     "text": [
      "Collecting requests\n",
      "  Using cached requests-2.28.1-py3-none-any.whl (62 kB)\n",
      "Collecting charset-normalizer<3,>=2\n",
      "  Using cached charset_normalizer-2.1.0-py3-none-any.whl (39 kB)\n",
      "Collecting idna<4,>=2.5\n",
      "  Using cached idna-3.3-py3-none-any.whl (61 kB)\n",
      "Collecting urllib3<1.27,>=1.21.1\n",
      "  Using cached urllib3-1.26.10-py2.py3-none-any.whl (139 kB)\n",
      "Collecting certifi>=2017.4.17\n",
      "  Using cached certifi-2022.6.15-py3-none-any.whl (160 kB)\n",
      "Installing collected packages: urllib3, idna, charset-normalizer, certifi, requests\n",
      "Successfully installed certifi-2022.6.15 charset-normalizer-2.1.0 idna-3.3 requests-2.28.1 urllib3-1.26.10\n",
      "Note: you may need to restart the kernel to use updated packages.\n"
     ]
    },
    {
     "name": "stderr",
     "output_type": "stream",
     "text": [
      "  WARNING: The script normalizer.exe is installed in 'c:\\Users\\Yann\\AppData\\Local\\Programs\\Python\\Python310\\Scripts' which is not on PATH.\n",
      "  Consider adding this directory to PATH or, if you prefer to suppress this warning, use --no-warn-script-location.\n",
      "WARNING: You are using pip version 21.2.4; however, version 22.1.2 is available.\n",
      "You should consider upgrading via the 'c:\\Users\\Yann\\AppData\\Local\\Programs\\Python\\Python310\\python.exe -m pip install --upgrade pip' command.\n"
     ]
    }
   ],
   "source": [
    "pip install requests"
   ]
  },
  {
   "cell_type": "code",
   "execution_count": 5,
   "metadata": {},
   "outputs": [
    {
     "name": "stdout",
     "output_type": "stream",
     "text": [
      "{'Date': 'Sun, 10 Jul 2022 00:10:26 GMT', 'Expires': '-1', 'Cache-Control': 'private, max-age=0', 'Content-Type': 'text/html; charset=ISO-8859-1', 'P3P': 'CP=\"This is not a P3P policy! See g.co/p3phelp for more info.\"', 'Content-Encoding': 'gzip', 'Server': 'gws', 'Content-Length': '6211', 'X-XSS-Protection': '0', 'X-Frame-Options': 'SAMEORIGIN', 'Set-Cookie': '1P_JAR=2022-07-10-00; expires=Tue, 09-Aug-2022 00:10:26 GMT; path=/; domain=.google.com; Secure, AEC=AakniGPTDkqiAr2B5AE3ujYzT91xb2i9N6-ns49Jp6dHt0IWwiVHMBGfrDY; expires=Fri, 06-Jan-2023 00:10:26 GMT; path=/; domain=.google.com; Secure; HttpOnly; SameSite=lax, NID=511=EaL00AgoDSpr3J7UK8ei-ztP9muTu2OX85r4uD0SKtET9qbCuFInJIRNWaJPJsQKQwy8AUW-_Iky6-hWcDh7xr2nH0fUSujfXJiAj3v_O576PBDYyBzQFrM54ByiOxAbBBY8VSmfnBeMIfKXHf1St6frLC_he3BtwIqlsLrY4aY; expires=Mon, 09-Jan-2023 00:10:26 GMT; path=/; domain=.google.com; HttpOnly'}\n"
     ]
    }
   ],
   "source": [
    "import requests \n",
    "#Requesting info from Google\n",
    "response = requests.get(\"http://www.google.com\")\n",
    "#print the length of the request message\n",
    "len(response.text)"
   ]
  },
  {
   "cell_type": "markdown",
   "metadata": {},
   "source": [
    "# Importe de módulo Arrow\n",
    "\n",
    "Este modulo permite la administración de fechas, etc."
   ]
  },
  {
   "cell_type": "code",
   "execution_count": 6,
   "metadata": {},
   "outputs": [
    {
     "name": "stdout",
     "output_type": "stream",
     "text": [
      "Collecting arrow\n",
      "  Downloading arrow-1.2.2-py3-none-any.whl (64 kB)\n",
      "Requirement already satisfied: python-dateutil>=2.7.0 in c:\\users\\yann\\appdata\\local\\programs\\python\\python310\\lib\\site-packages (from arrow) (2.8.2)\n",
      "Requirement already satisfied: six>=1.5 in c:\\users\\yann\\appdata\\local\\programs\\python\\python310\\lib\\site-packages (from python-dateutil>=2.7.0->arrow) (1.16.0)\n",
      "Installing collected packages: arrow\n",
      "Successfully installed arrow-1.2.2\n",
      "Note: you may need to restart the kernel to use updated packages.\n"
     ]
    },
    {
     "name": "stderr",
     "output_type": "stream",
     "text": [
      "WARNING: You are using pip version 21.2.4; however, version 22.1.2 is available.\n",
      "You should consider upgrading via the 'c:\\Users\\Yann\\AppData\\Local\\Programs\\Python\\Python310\\python.exe -m pip install --upgrade pip' command.\n"
     ]
    }
   ],
   "source": [
    "pip install arrow"
   ]
  },
  {
   "cell_type": "code",
   "execution_count": 10,
   "metadata": {},
   "outputs": [
    {
     "data": {
      "text/plain": [
       "'Aug 20 2022'"
      ]
     },
     "execution_count": 10,
     "metadata": {},
     "output_type": "execute_result"
    }
   ],
   "source": [
    "import arrow\n",
    "#Uso de función get para crear objeto de fecha a partir de un string\n",
    "date = arrow.get(\"2022-07-09\",\"YYYY-MM-DD\")\n",
    "#Aumentando 6 semanas usando la función shift y formateando con Format\n",
    "date.shift(weeks=+6).format(\"MMM DD YYYY\")\n"
   ]
  },
  {
   "cell_type": "markdown",
   "metadata": {},
   "source": [
    "# Importe de módulo PIL en Linux\n"
   ]
  },
  {
   "cell_type": "code",
   "execution_count": 13,
   "metadata": {},
   "outputs": [
    {
     "name": "stdout",
     "output_type": "stream",
     "text": [
      "Note: you may need to restart the kernel to use updated packages.\n"
     ]
    },
    {
     "name": "stderr",
     "output_type": "stream",
     "text": [
      "ERROR: Could not find a version that satisfies the requirement PIL.Image (from versions: none)\n",
      "ERROR: No matching distribution found for PIL.Image\n",
      "WARNING: You are using pip version 21.2.4; however, version 22.1.2 is available.\n",
      "You should consider upgrading via the 'c:\\Users\\Yann\\AppData\\Local\\Programs\\Python\\Python310\\python.exe -m pip install --upgrade pip' command.\n"
     ]
    }
   ],
   "source": [
    "pip install PIL.Image"
   ]
  },
  {
   "cell_type": "code",
   "execution_count": null,
   "metadata": {},
   "outputs": [],
   "source": [
    "import PIL.Image\n",
    "image = PIL.Image.open(\"houses.jpg\")\n",
    "print(image.size) #Salida (4032,3024)\n",
    "print(image.format) # JPEG"
   ]
  },
  {
   "cell_type": "markdown",
   "metadata": {},
   "source": [
    "# Importe de modulo que permita generar estadisticas de errores\n",
    "Podemos usar PANDAS"
   ]
  },
  {
   "cell_type": "code",
   "execution_count": 15,
   "metadata": {},
   "outputs": [
    {
     "name": "stdout",
     "output_type": "stream",
     "text": [
      "Requirement already satisfied: pandas in c:\\users\\yann\\appdata\\local\\programs\\python\\python310\\lib\\site-packages (1.4.3)\n",
      "Requirement already satisfied: numpy>=1.21.0 in c:\\users\\yann\\appdata\\local\\programs\\python\\python310\\lib\\site-packages (from pandas) (1.23.0)\n",
      "Requirement already satisfied: pytz>=2020.1 in c:\\users\\yann\\appdata\\local\\programs\\python\\python310\\lib\\site-packages (from pandas) (2022.1)\n",
      "Requirement already satisfied: python-dateutil>=2.8.1 in c:\\users\\yann\\appdata\\local\\programs\\python\\python310\\lib\\site-packages (from pandas) (2.8.2)\n",
      "Requirement already satisfied: six>=1.5 in c:\\users\\yann\\appdata\\local\\programs\\python\\python310\\lib\\site-packages (from python-dateutil>=2.8.1->pandas) (1.16.0)\n",
      "Note: you may need to restart the kernel to use updated packages.\n"
     ]
    },
    {
     "name": "stderr",
     "output_type": "stream",
     "text": [
      "WARNING: You are using pip version 21.2.4; however, version 22.1.2 is available.\n",
      "You should consider upgrading via the 'c:\\Users\\Yann\\AppData\\Local\\Programs\\Python\\Python310\\python.exe -m pip install --upgrade pip' command.\n"
     ]
    }
   ],
   "source": [
    "pip install pandas"
   ]
  },
  {
   "cell_type": "code",
   "execution_count": 19,
   "metadata": {},
   "outputs": [
    {
     "name": "stdout",
     "output_type": "stream",
     "text": [
      "     Visitos  Errors\n",
      "Mon     1235      23\n",
      "Tue     5424      45\n",
      "Wed     9345      33\n",
      "Thu     8464      45\n",
      "Fri     2345      76\n",
      "Promedio de errores:  44.4\n"
     ]
    }
   ],
   "source": [
    "import pandas\n",
    "visitors = [ 1235, 5424, 9345, 8464, 2345 ]\n",
    "#Lista de errores con cantidad de erorres generados en los ultimos 5 días\n",
    "errors = [ 23, 45 , 33, 45, 76 ]\n",
    "\n",
    "#Creación de un DataFrame (Marco de datos)\n",
    "#Estructura común para utilizar pandas y todo su poder\n",
    "df = pandas.DataFrame( { \"Visitos\" : visitors, \"Errors\" : errors }, index=[\"Mon\", \"Tue\", \"Wed\", \"Thu\", \"Fri\"])\n",
    "#Con esto tendremos un DataFrame\n",
    "print(df)\n",
    "\n",
    "#Pandas tiene una infinidad de operaciones como el calculo del promedio, media, etc por columna\n",
    "#Ejemplo de promedio\n",
    "print(\"Promedio de errores: \", df[\"Errors\"].mean())"
   ]
  }
 ],
 "metadata": {
  "kernelspec": {
   "display_name": "Python 3.10.2 64-bit",
   "language": "python",
   "name": "python3"
  },
  "language_info": {
   "codemirror_mode": {
    "name": "ipython",
    "version": 3
   },
   "file_extension": ".py",
   "mimetype": "text/x-python",
   "name": "python",
   "nbconvert_exporter": "python",
   "pygments_lexer": "ipython3",
   "version": "3.10.2"
  },
  "orig_nbformat": 4,
  "vscode": {
   "interpreter": {
    "hash": "b638661fb505d19b3e39387074286a6ab6143edfcc10e87bf6d921703faae342"
   }
  }
 },
 "nbformat": 4,
 "nbformat_minor": 2
}
