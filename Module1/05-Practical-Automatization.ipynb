{
 "cells": [
  {
   "cell_type": "markdown",
   "metadata": {},
   "source": [
    "# Información referente al espacio en disco\n",
    "Si quisieramos hacer una comprobación de algunos atributos de la computadora.\n",
    "\n",
    "Podemos usar el módulo `shutil` y la función `disk_usage` function para comprobar el espacio actual de nuestro disco duro.\n"
   ]
  },
  {
   "cell_type": "code",
   "execution_count": null,
   "metadata": {},
   "outputs": [],
   "source": [
    "pip install shutil"
   ]
  },
  {
   "cell_type": "code",
   "execution_count": 2,
   "metadata": {},
   "outputs": [
    {
     "name": "stdout",
     "output_type": "stream",
     "text": [
      "usage(total=255399284736, used=238733029376, free=16666255360)\n",
      "6.525568533689317\n"
     ]
    }
   ],
   "source": [
    "import shutil\n",
    "du = shutil.disk_usage(\"/\") #Obteniendo espacio de la ruta /\n",
    "print(du) #Obtenemos el número total de bytes en el disco, la cantidad usada\n",
    "#y la cantidad libre.\n",
    "#Obteniendo porcentaje libre\n",
    "print( (du.free/du.total)*100)\n"
   ]
  },
  {
   "cell_type": "markdown",
   "metadata": {},
   "source": [
    "# Información referente al CPU\n",
    "Para ello podemos usar el módulo `psutil` y su función `cpu_percent` algo importnte a resaltar es que esta función recibe un intervalo de segundos y retorna un porcentaje de uso dentro del intervalo indicado, recordemos que esto se realiza de ese modo debido al inicio y terminación de procesos dentro de nuestro SO."
   ]
  },
  {
   "cell_type": "code",
   "execution_count": 5,
   "metadata": {},
   "outputs": [
    {
     "name": "stdout",
     "output_type": "stream",
     "text": [
      "56.0\n",
      "46.4\n",
      "96.4\n",
      "75.0\n",
      "39.3\n",
      "84.0\n",
      "3.7\n"
     ]
    }
   ],
   "source": [
    "import psutil\n",
    "print(psutil.cpu_percent(0.1))\n",
    "print(psutil.cpu_percent(0.1))\n",
    "print(psutil.cpu_percent(0.1))\n",
    "print(psutil.cpu_percent(0.1))\n",
    "print(psutil.cpu_percent(0.1))\n",
    "print(psutil.cpu_percent(0.1))\n",
    "print(psutil.cpu_percent(0.1))\n",
    "#Como vemos en la salida, estos valores varian mucho entre cada una\n",
    "\n",
    "#Probando con un intervalo mayor\n",
    "print(psutil.cpu_percent(0.5))\n",
    "print(psutil.cpu_percent(0.5))\n",
    "print(psutil.cpu_percent(0.5))\n",
    "print(psutil.cpu_percent(0.5))\n",
    "print(psutil.cpu_percent(0.5))\n",
    "#Veremos que los valores son más semejantes."
   ]
  },
  {
   "cell_type": "markdown",
   "metadata": {},
   "source": [
    "Refiera a los siguientes archivos para poder encontrar el script de referencia de salud en su sistema operativo.\n",
    "\n",
    "Usando interprete Shebang con la primer línea de comando `#!/usr/bin/env`"
   ]
  }
 ],
 "metadata": {
  "kernelspec": {
   "display_name": "Python 3.10.2 64-bit",
   "language": "python",
   "name": "python3"
  },
  "language_info": {
   "codemirror_mode": {
    "name": "ipython",
    "version": 3
   },
   "file_extension": ".py",
   "mimetype": "text/x-python",
   "name": "python",
   "nbconvert_exporter": "python",
   "pygments_lexer": "ipython3",
   "version": "3.10.2"
  },
  "orig_nbformat": 4,
  "vscode": {
   "interpreter": {
    "hash": "b638661fb505d19b3e39387074286a6ab6143edfcc10e87bf6d921703faae342"
   }
  }
 },
 "nbformat": 4,
 "nbformat_minor": 2
}
